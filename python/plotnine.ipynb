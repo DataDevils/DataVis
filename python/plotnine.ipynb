{
 "cells": [
  {
   "cell_type": "code",
   "execution_count": 1,
   "metadata": {},
   "outputs": [],
   "source": [
    "#Import packages\n",
    "import pandas as pd\n",
    "from  plotnine import *"
   ]
  },
  {
   "cell_type": "code",
   "execution_count": 2,
   "metadata": {},
   "outputs": [],
   "source": [
    "#Instruct Jupyter to display plots inline\n",
    "%matplotlib inline"
   ]
  },
  {
   "cell_type": "markdown",
   "metadata": {},
   "source": [
    "## 1. Loading the data into Python"
   ]
  },
  {
   "cell_type": "code",
   "execution_count": 6,
   "metadata": {},
   "outputs": [],
   "source": [
    "#Read the WaterUse and Population worksheets into data frames\n",
    "dfWaterUse = pd.read_excel('../data/State_Data_Formatted.xlsx','WaterUse')\n",
    "dfPopulation = pd.read_excel('../data/State_Data_Formatted.xlsx','Population')"
   ]
  },
  {
   "cell_type": "markdown",
   "metadata": {},
   "source": [
    "## 2. Joining tables"
   ]
  },
  {
   "cell_type": "code",
   "execution_count": 15,
   "metadata": {},
   "outputs": [
    {
     "data": {
      "text/html": [
       "<div>\n",
       "<style scoped>\n",
       "    .dataframe tbody tr th:only-of-type {\n",
       "        vertical-align: middle;\n",
       "    }\n",
       "\n",
       "    .dataframe tbody tr th {\n",
       "        vertical-align: top;\n",
       "    }\n",
       "\n",
       "    .dataframe thead th {\n",
       "        text-align: right;\n",
       "    }\n",
       "</style>\n",
       "<table border=\"1\" class=\"dataframe\">\n",
       "  <thead>\n",
       "    <tr style=\"text-align: right;\">\n",
       "      <th></th>\n",
       "      <th>State</th>\n",
       "      <th>Source</th>\n",
       "      <th>Type</th>\n",
       "      <th>Category</th>\n",
       "      <th>Withdrawal_MGD</th>\n",
       "      <th>STATE</th>\n",
       "      <th>Population_Thousands</th>\n",
       "      <th>Population</th>\n",
       "    </tr>\n",
       "  </thead>\n",
       "  <tbody>\n",
       "    <tr>\n",
       "      <td>0</td>\n",
       "      <td>Alabama</td>\n",
       "      <td>Surface</td>\n",
       "      <td>Fresh</td>\n",
       "      <td>Total</td>\n",
       "      <td>9470.0</td>\n",
       "      <td>Alabama</td>\n",
       "      <td>4780</td>\n",
       "      <td>4780000</td>\n",
       "    </tr>\n",
       "    <tr>\n",
       "      <td>1</td>\n",
       "      <td>Alabama</td>\n",
       "      <td>Groundwater</td>\n",
       "      <td>Fresh</td>\n",
       "      <td>Total</td>\n",
       "      <td>494.0</td>\n",
       "      <td>Alabama</td>\n",
       "      <td>4780</td>\n",
       "      <td>4780000</td>\n",
       "    </tr>\n",
       "    <tr>\n",
       "      <td>2</td>\n",
       "      <td>Alabama</td>\n",
       "      <td>Surface</td>\n",
       "      <td>Saline</td>\n",
       "      <td>Total</td>\n",
       "      <td>0.0</td>\n",
       "      <td>Alabama</td>\n",
       "      <td>4780</td>\n",
       "      <td>4780000</td>\n",
       "    </tr>\n",
       "    <tr>\n",
       "      <td>3</td>\n",
       "      <td>Alabama</td>\n",
       "      <td>Groundwater</td>\n",
       "      <td>Saline</td>\n",
       "      <td>Total</td>\n",
       "      <td>0.0</td>\n",
       "      <td>Alabama</td>\n",
       "      <td>4780</td>\n",
       "      <td>4780000</td>\n",
       "    </tr>\n",
       "    <tr>\n",
       "      <td>4</td>\n",
       "      <td>Alabama</td>\n",
       "      <td>Surface</td>\n",
       "      <td>Fresh</td>\n",
       "      <td>Public Supply</td>\n",
       "      <td>551.0</td>\n",
       "      <td>Alabama</td>\n",
       "      <td>4780</td>\n",
       "      <td>4780000</td>\n",
       "    </tr>\n",
       "  </tbody>\n",
       "</table>\n",
       "</div>"
      ],
      "text/plain": [
       "     State       Source    Type       Category  Withdrawal_MGD    STATE  \\\n",
       "0  Alabama      Surface   Fresh          Total          9470.0  Alabama   \n",
       "1  Alabama  Groundwater   Fresh          Total           494.0  Alabama   \n",
       "2  Alabama      Surface  Saline          Total             0.0  Alabama   \n",
       "3  Alabama  Groundwater  Saline          Total             0.0  Alabama   \n",
       "4  Alabama      Surface   Fresh  Public Supply           551.0  Alabama   \n",
       "\n",
       "   Population_Thousands  Population  \n",
       "0                  4780     4780000  \n",
       "1                  4780     4780000  \n",
       "2                  4780     4780000  \n",
       "3                  4780     4780000  \n",
       "4                  4780     4780000  "
      ]
     },
     "execution_count": 15,
     "metadata": {},
     "output_type": "execute_result"
    }
   ],
   "source": [
    "#Join the tables\n",
    "dfAll = pd.merge(left=dfWaterUse,\n",
    "                 right=dfPopulation,\n",
    "                 how='inner',\n",
    "                 left_on = 'State',\n",
    "                 right_on = 'STATE'\n",
    "                )\n",
    "dfAll.head()"
   ]
  },
  {
   "cell_type": "markdown",
   "metadata": {},
   "source": [
    "## 3. Construct the visualization\n",
    "![Plot1](https://datadevils.github.io/DataBootCamp/media/tableau/StackedBarPlot1.PNG)\n",
    "### 3a. Organizing our data"
   ]
  },
  {
   "cell_type": "code",
   "execution_count": null,
   "metadata": {},
   "outputs": [],
   "source": []
  },
  {
   "cell_type": "code",
   "execution_count": 34,
   "metadata": {},
   "outputs": [
    {
     "data": {
      "image/png": "[encoded data removed]",
      "text/plain": [
       "<Figure size 640x480 with 1 Axes>"
      ]
     },
     "metadata": {},
     "output_type": "display_data"
    },
    {
     "data": {
      "text/plain": [
       "<ggplot: (99655405611)>"
      ]
     },
     "execution_count": 34,
     "metadata": {},
     "output_type": "execute_result"
    }
   ],
   "source": [
    "(ggplot(data=dfAll,mapping=aes(x='Category',y='Withdrawal_MGD',fill='Source')) +\n",
    "  geom_col() \n",
    ")"
   ]
  },
  {
   "cell_type": "code",
   "execution_count": null,
   "metadata": {},
   "outputs": [],
   "source": []
  }
 ],
 "metadata": {
  "kernelspec": {
   "display_name": "Python 3",
   "language": "python",
   "name": "python3"
  },
  "language_info": {
   "codemirror_mode": {
    "name": "ipython",
    "version": 3
   },
   "file_extension": ".py",
   "mimetype": "text/x-python",
   "name": "python",
   "nbconvert_exporter": "python",
   "pygments_lexer": "ipython3",
   "version": "3.6.8"
  }
 },
 "nbformat": 4,
 "nbformat_minor": 2
}
