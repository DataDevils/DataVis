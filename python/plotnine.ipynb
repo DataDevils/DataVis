{
 "cells": [
  {
   "cell_type": "markdown",
   "metadata": {},
   "source": [
    "https://plotnine.readthedocs.io/en/stable/api.html"
   ]
  },
  {
   "cell_type": "markdown",
   "metadata": {},
   "source": [
    "## Session prep"
   ]
  },
  {
   "cell_type": "code",
   "execution_count": null,
   "metadata": {},
   "outputs": [],
   "source": [
    "#Import packages\n",
    "import pandas as pd\n",
    "from  plotnine import *"
   ]
  },
  {
   "cell_type": "code",
   "execution_count": null,
   "metadata": {},
   "outputs": [],
   "source": [
    "#Instruct Jupyter to display plots inline\n",
    "%matplotlib inline"
   ]
  },
  {
   "cell_type": "markdown",
   "metadata": {},
   "source": [
    "## 1. Loading the data into Python"
   ]
  },
  {
   "cell_type": "code",
   "execution_count": null,
   "metadata": {},
   "outputs": [],
   "source": [
    "#Read the WaterUse and Population worksheets into data frames\n",
    "dfWaterUse = pd.read_excel('../data/State_Data_Formatted.xlsx','WaterUse')\n",
    "dfPopulation = pd.read_excel('../data/State_Data_Formatted.xlsx','Population')"
   ]
  },
  {
   "cell_type": "markdown",
   "metadata": {},
   "source": [
    "## 2. Joining tables"
   ]
  },
  {
   "cell_type": "code",
   "execution_count": null,
   "metadata": {},
   "outputs": [],
   "source": [
    "#Join the two dataframes into one using the Pandas \"merge\" command\n",
    "dfAll = pd.merge(left=dfWaterUse,     #Specify the \"left\" table\n",
    "                 right=dfPopulation,  #Specify the \"right\" table\n",
    "                 how='inner',         #Specify the type of join (vs \"outer\", \"left\", or \"right\")\n",
    "                 left_on = 'State',   #Specify the join field in the \"left\" table\n",
    "                 right_on = 'STATE'   #Specify the join field in the \"right\" table\n",
    "                 )\n",
    "dfAll.head()"
   ]
  },
  {
   "cell_type": "markdown",
   "metadata": {},
   "source": [
    "## 3. Construct the visualization\n",
    "Recall the rotated stacked bar plot of water withdrawal by type and category we created in Tableau:\n",
    "![Plot1](https://datadevils.github.io/DataBootCamp/media/tableau/BarChart3.png)\n",
    "This is what we want to recreate using `ggplot` via the Python \"plotnine\" package. "
   ]
  },
  {
   "cell_type": "markdown",
   "metadata": {},
   "source": [
    "### 3a. Organizing our data\n",
    "In Tableau, we had to organize our data. Here, our data exist in a tidy format (one and only one row for each observation, with a column for each property of that observation). `ggplot` is designed to work with data in that format, so no need to further organize our data! We do, however, need to add a \"Per capita water use\" field. "
   ]
  },
  {
   "cell_type": "code",
   "execution_count": null,
   "metadata": {},
   "outputs": [],
   "source": [
    "#Compute MGD per capita field\n",
    "dfAll['MGD_perCapita'] = dfAll['Withdrawal_MGD'] / dfAll['Population']\n",
    "dfAll.head()"
   ]
  },
  {
   "cell_type": "markdown",
   "metadata": {},
   "source": [
    "### 3b. Plotting our data\n",
    "The next step is to construct our plots, which we will be doing with the `Plotnine` package. This package enables us to use the`ggplot` interface, which has a bit of a steep learning curve. So, let's pause and introduce the grammer of graphics..."
   ]
  },
  {
   "cell_type": "markdown",
   "metadata": {},
   "source": [
    "---\n",
    "### ►`ggplot` _and the Grammer of Graphics_ ◄\n",
    "Plots have numerous options in presentation, design, and content. The Grammer of Graphics (\"GG\") is a set of structural rules defining the components of a plotting language that strives to simplify designing plots from such a wide array of options from a coding platform. Even so, it has a bit of a steep learning curve, so to help with that, let's examine it from it's foundations. \n",
    "\n",
    "The [\"CheatSheet\"](https://www.rstudio.com/wp-content/uploads/2016/11/ggplot2-cheatsheet-2.1.pdf) for `ggplot2` (the \"R\" version of what we are doing) provides a quick introduction to GG. In it, we see that plots are divided into a set of components that our code must specify:\n",
    "* First is the source of the **data** for our plot. \n",
    "* Associated with the data object are its **aesthetics**. The aesthetics include the columns that we wish to plot, as well as the size and color attributes we want to assign to these features. \n",
    "* Then we specify a **`geom`** object, which indicate how we want to plot our data. We can specify multiple `geom` objects.\n",
    "\n",
    "There are some more elements in the grammer of graphics, but let's start there and experiment. First, let's see if we can replicate the stacked bar plot we did in Tableau.  \n",
    "\n",
    "---"
   ]
  },
  {
   "cell_type": "markdown",
   "metadata": {},
   "source": [
    "### Stacked bar plot\n",
    "Take a look at the ggplot2 cheatsheet. Specifically, look at the various graphical primitives, or \"**geoms**\", we have at our disposal. They are organized by the types of data we wish to plot. In our example, we want to plot one discrete value (\"`Category`\") and one continuous one (\"`MGD_perCapita`\"). The option for `geom_col` appears to serve our purpose. Let's try that: \n",
    "\n",
    "This is a two step process. First we create the base ggplot object, telling it to use the `dfAll` dataframe as the source of data. Then, we add our `geom_col` object, using its `aes` object to define which columns to use in the plot. "
   ]
  },
  {
   "cell_type": "code",
   "execution_count": null,
   "metadata": {},
   "outputs": [],
   "source": [
    "#Create the ggplot object, defining it to use our dfAll dataframe as the source of data\n",
    "myPlot = ggplot(data=dfAll)"
   ]
  },
  {
   "cell_type": "code",
   "execution_count": null,
   "metadata": {},
   "outputs": [],
   "source": [
    "#Now add the geom_col object to our ggplot object along with some aesthetics, and it will plot\n",
    "myPlot + geom_col(aes(x='Category', y='MGD_perCapita'))"
   ]
  },
  {
   "cell_type": "markdown",
   "metadata": {},
   "source": [
    "Not perfect, but a good start. To learn what we just did, making a plot showing total withdrawal by source vs by category. \n",
    "\n",
    "#### Aesthetics: *fill*\n",
    "Next, we can modify our plot by tweaking the aesthetics. Here we'll use the `fill` property, which colors the bar based on the property we specify. (I've also now split the command across mulitple lines to improve readability.)"
   ]
  },
  {
   "cell_type": "code",
   "execution_count": null,
   "metadata": {},
   "outputs": [],
   "source": [
    "#Now add the geom_col object\n",
    "myPlot + geom_col(aes(x='Category',\n",
    "                      y='MGD_perCapita',  \n",
    "                      fill='Source',\n",
    "                     ))"
   ]
  },
  {
   "cell_type": "markdown",
   "metadata": {},
   "source": [
    "#### Facets: *facet_grid*\n",
    "More interesting and closer to our ultimate goal, but we also want separate plots for Fresh vs Saline water withdrawals. This is done using **facets**. Facets split data on values in one or more fields, creating a separate plot for each subset of data. Below the `facet_grid` command causes our plot to create separate plots based on values the `Type` field. (*I've again modified the format of the Python command to make it more readable...*)\n",
    "\n",
    "The `facets='.~Type'` argument passed to the facet_grid indicated that we want to create a new plot for each unique value in the \"Type\" column (i.e. \"Fresh\" or \"Saline\"), and place those side by side. Try changing the value to `Type~.` and see what happens. Then try `Source~Type`. This reveals that we can specify various fields to represent rows and columns of plot facets from our dataset; the field written before the `~` is used for rows of plots and after the `~` for columns. And we can add a `.` on either side as a placeholder if we only want one field. "
   ]
  },
  {
   "cell_type": "code",
   "execution_count": null,
   "metadata": {},
   "outputs": [],
   "source": [
    "#Create facets based on the Type column\n",
    "(ggplot(data=dfAll) + \n",
    " geom_col(aes(x='Category',\n",
    "              y='MGD_perCapita',\n",
    "              fill='Source')) + \n",
    " facet_grid(facets='.~Type'))     #Adds a seperate \"facet\" for Fresh and Saline types; plots side by side"
   ]
  },
  {
   "cell_type": "markdown",
   "metadata": {},
   "source": [
    "#### Labels and coordinate systems\n",
    "Closer to what we want, but we still need to:\n",
    "* add a title to our plot,\n",
    "* tidy up the axis labels, and\n",
    "* arrange the data so the bars are horizontal\n",
    "The first two can be done using label commands found in the cheat sheet (see the `Labels` section), and the command for swapping axes is found in the `coordinate systems` section. Notice the bottom three additions to the code used to create our plot. Also notice how we modify the argument supplied to the `facet_grid` command: by switching from `.~Type` to `Type~.` (see above)."
   ]
  },
  {
   "cell_type": "code",
   "execution_count": null,
   "metadata": {},
   "outputs": [],
   "source": [
    "#Add/fix labels, swap axes, and place facets horizontally\n",
    "(ggplot(data=dfAll) + \n",
    " geom_col(aes(x='Category',\n",
    "              y='MGD_perCapita',\n",
    "              fill='Source')) + \n",
    " facet_grid(facets='Type ~ .') +\n",
    " ggtitle('Per capita water withdrawals') + \n",
    " ylab(\"Per capita water withdrawals (MGD/person)\") +\n",
    " coord_flip() \n",
    ")"
   ]
  },
  {
   "cell_type": "markdown",
   "metadata": {},
   "source": [
    "To complete our plot, we still need to remove the Total category, show results for Fresh water withdrawals only, and sort the values in our plot by category, showing them from least to largest per capita withdrawal."
   ]
  },
  {
   "cell_type": "code",
   "execution_count": null,
   "metadata": {},
   "outputs": [],
   "source": [
    "#First we create a dataframe without the \"Total\" category and with only the \"Fresh\" type\n",
    "dfSubset = dfAll.query('Category != \"Total\" and Type == \"Fresh\"')"
   ]
  },
  {
   "cell_type": "code",
   "execution_count": null,
   "metadata": {},
   "outputs": [],
   "source": [
    "#Create a list of Category values sorted by MGD_PerCapita\n",
    "dfSorted = (dfSubset.groupby('Category')              #Group data on Category\n",
    "                    .agg({'MGD_perCapita':'sum'})     #Compute the sum of the MGD_perCapita for each Category value\n",
    "                    .sort_values(by='MGD_perCapita',  #Sort values based on sum MGD_perCapita\n",
    "                                 ascending=False))     #in descending order\n",
    "#Show the resulting dataframe\n",
    "dfSorted"
   ]
  },
  {
   "cell_type": "code",
   "execution_count": null,
   "metadata": {},
   "outputs": [],
   "source": [
    "#Export the index of the sorted dataframe to a Python list\n",
    "Category_list = dfSorted.index.tolist()               \n",
    "print(Category_list)"
   ]
  },
  {
   "cell_type": "code",
   "execution_count": null,
   "metadata": {},
   "outputs": [],
   "source": [
    "#Convert these values to a Pandas Categorical object and add back to the original dataframe\n",
    "Category_sort = pd.Categorical(dfSubset['Category'],categories=Category_list)\n",
    "\n",
    "#Assign these values to a new column in the dataframe\n",
    "dfSubset = dfSubset.assign(Category_sort = Category_sort)"
   ]
  },
  {
   "cell_type": "code",
   "execution_count": null,
   "metadata": {},
   "outputs": [],
   "source": [
    "#Create facets based on the Type column\n",
    "(ggplot(data=dfSubset) + \n",
    " geom_col(aes(x='Category_sort', #Note: X field now set to the Category_sort column\n",
    "              y='MGD_perCapita',\n",
    "              fill='Source')) + \n",
    " #facet_grid(facets='Type ~ .') + #Comment out facet command as we now only have Fresh\n",
    " ggtitle('Per capita water withdrawals') + \n",
    " ylab(\"Per capita water withdrawals (MGD/person)\") +\n",
    " xlab(\"Category\") +              #X label added \n",
    " coord_flip() \n",
    ")"
   ]
  },
  {
   "cell_type": "markdown",
   "metadata": {},
   "source": [
    "### 3c. Filter for just Fresh"
   ]
  },
  {
   "cell_type": "code",
   "execution_count": null,
   "metadata": {},
   "outputs": [],
   "source": [
    "df_Fresh = dfAll.query('Type == \"Fresh\"')\n",
    "df_Fresh.index = \n",
    "(ggplot(data=df_Fresh[dfAll.Category != 'Total'],\n",
    "        mapping=aes(x='Category',y='Withdrawal_MGD',fill='Source')) +\n",
    "  geom_col() +\n",
    "  coord_flip() +\n",
    "  #facet_wrap(facets = 'Type',ncol=1) + \n",
    "  ylab('Total withdrawal (MGD)') +\n",
    "  theme(axis_text = element_text(angle=0)) \n",
    ")"
   ]
  },
  {
   "cell_type": "code",
   "execution_count": null,
   "metadata": {},
   "outputs": [],
   "source": []
  }
 ],
 "metadata": {
  "kernelspec": {
   "display_name": "Python 3",
   "language": "python",
   "name": "python3"
  },
  "language_info": {
   "codemirror_mode": {
    "name": "ipython",
    "version": 3
   },
   "file_extension": ".py",
   "mimetype": "text/x-python",
   "name": "python",
   "nbconvert_exporter": "python",
   "pygments_lexer": "ipython3",
   "version": "3.6.8"
  }
 },
 "nbformat": 4,
 "nbformat_minor": 2
}
