{
 "cells": [
  {
   "cell_type": "markdown",
   "metadata": {},
   "source": [
    "https://plotnine.readthedocs.io/en/stable/api.html"
   ]
  },
  {
   "cell_type": "code",
   "execution_count": null,
   "metadata": {},
   "outputs": [],
   "source": [
    "#Import packages\n",
    "import pandas as pd\n",
    "from  plotnine import *"
   ]
  },
  {
   "cell_type": "code",
   "execution_count": null,
   "metadata": {},
   "outputs": [],
   "source": [
    "#Instruct Jupyter to display plots inline\n",
    "%matplotlib inline"
   ]
  },
  {
   "cell_type": "markdown",
   "metadata": {},
   "source": [
    "## 1. Loading the data into Python"
   ]
  },
  {
   "cell_type": "code",
   "execution_count": null,
   "metadata": {},
   "outputs": [],
   "source": [
    "#Read the WaterUse and Population worksheets into data frames\n",
    "dfWaterUse = pd.read_excel('../data/State_Data_Formatted.xlsx','WaterUse')\n",
    "dfPopulation = pd.read_excel('../data/State_Data_Formatted.xlsx','Population')"
   ]
  },
  {
   "cell_type": "markdown",
   "metadata": {},
   "source": [
    "## 2. Joining tables"
   ]
  },
  {
   "cell_type": "code",
   "execution_count": null,
   "metadata": {},
   "outputs": [],
   "source": [
    "#Join the tables\n",
    "dfAll = pd.merge(left=dfWaterUse,\n",
    "                 right=dfPopulation,\n",
    "                 how='inner',\n",
    "                 left_on = 'State',\n",
    "                 right_on = 'STATE'\n",
    "                )\n",
    "dfAll.head()"
   ]
  },
  {
   "cell_type": "markdown",
   "metadata": {},
   "source": [
    "## 3. Construct the visualization\n",
    "Recall the Tableau stacked bar plot of water withdrawal by type and category:\n",
    "![Plot1](https://datadevils.github.io/DataBootCamp/media/tableau/StackedBarPlot1.PNG)\n",
    "Here we recreate the same plot using Plotnine's ggplot interface"
   ]
  },
  {
   "cell_type": "markdown",
   "metadata": {},
   "source": [
    "### 3a. Organizing our data\n",
    "In Tableau, we had to organize our data. Here, our data exist in a tidy format (one and only one row for each observation, with a column for each property of that observation). `ggplot` is designed to work with data in that format, so no need to further organize our data!"
   ]
  },
  {
   "cell_type": "markdown",
   "metadata": {},
   "source": [
    "### 3b. Plotting our data\n",
    "The next step is to construct our plots, which we will be doing with the `Plotnine` package. This package enables us to use the`ggplot` interface, which has a bit of a steep learning curve. So, let's pause and introduce the grammer of graphics..."
   ]
  },
  {
   "cell_type": "markdown",
   "metadata": {},
   "source": [
    "---\n",
    "### ►`ggplot` _and the Grammer of Graphics_ ◄\n",
    "Plots have numerous options in presentation, design, and content. The Grammer of Graphics (\"GG\") is a set of structural rules defining the components of a plotting language that strives to simplify designing plots from such a wide array of options from a coding platform. Even so, it has a bit of a steep learning curve, so to help with that, let's examine it from it's foundations. \n",
    "\n",
    "The [\"CheatSheet\"](https://www.rstudio.com/wp-content/uploads/2016/11/ggplot2-cheatsheet-2.1.pdf) for `ggplot2` (the \"R\" version of what we are doing) provides a quick introduction to GG. In it, we see that plots are divided into a set of components that our code must specify:\n",
    "* First is the source of the **data** for our plot. \n",
    "* Associated with the data object are its **aesthetics**. The aesthetics include the columns that we wish to plot, as well as the size and color attributes we want to assign to these features. \n",
    "* Then we specify a **`geom`** object, which indicate how we want to plot our data. We can specify multiple `geom` objects.\n",
    "\n",
    "There are some more elements in the grammer of graphics, but let's start there and experiment. First, let's see if we can replicate the stacked bar plot we did in Tableau.  \n",
    "\n",
    "---"
   ]
  },
  {
   "cell_type": "markdown",
   "metadata": {},
   "source": [
    "### Stacked bar plot\n",
    "Take a look at the ggplot2 cheatsheet. Specifically, look at the various graphical primitives, or \"geoms\", we have at our disposal. They are organized by the types of data we wish to plot. In our example, we want to plot one discrete value (\"`Category`\") and one continuous one (\"`Withdrawal_MGD`\"). The option for `geom_col` appears to serve our purpose. Let's try that: \n",
    "\n",
    "This is a two step process. First we create the base ggplot object, telling it to use the `dfAll` dataframe as the source of data. Then, we add our `geom_col` object, using its `aes` object to define which columns to use in the plot. "
   ]
  },
  {
   "cell_type": "code",
   "execution_count": null,
   "metadata": {},
   "outputs": [],
   "source": [
    "#Create the ggplot object, defining it to use our dfAll dataframe as the source of data\n",
    "myPlot = ggplot(data=dfAll)"
   ]
  },
  {
   "cell_type": "code",
   "execution_count": null,
   "metadata": {},
   "outputs": [],
   "source": [
    "#Now add the geom_col object to our ggplot object along with some aesthetics, and it will plot\n",
    "myPlot + geom_col(aes(x='Category', y='Withdrawal_MGD'))"
   ]
  },
  {
   "cell_type": "markdown",
   "metadata": {},
   "source": [
    "Not perfect, but a good start. To learn what we just did, making a plot showing total withdrawal by source vs by category. \n",
    "\n",
    "Next, we can modify our plot by tweaking the aesthetics. Here we'll use the `fill` property, which colors the bar based on the property we specify. (I've also now split the command across mulitple lines to improve readability.)"
   ]
  },
  {
   "cell_type": "code",
   "execution_count": null,
   "metadata": {},
   "outputs": [],
   "source": [
    "#Now add the geom_col object\n",
    "myPlot + geom_col(aes(x='Category',\n",
    "                      y='Withdrawal_MGD',\n",
    "                      fill='Source',\n",
    "                     ))"
   ]
  },
  {
   "cell_type": "markdown",
   "metadata": {},
   "source": [
    "#### Facets\n",
    "More interesting and closer to our ultimate goal, but we also want separate plots for Fresh vs Saline water withdrawals. This is done using **facets**. Facets split data on values in one or more fields, creating a separate plot for each subset of data. Below the `facet_grid` command causes our plot to create separate plots based on values the `Type` field. (*I've again modified the format of the Python command to make it more readable...*)"
   ]
  },
  {
   "cell_type": "code",
   "execution_count": null,
   "metadata": {},
   "outputs": [],
   "source": [
    "#Create facets based on the Type column\n",
    "(ggplot(data=dfAll) + \n",
    " geom_col(aes(x='Category',\n",
    "              y='Withdrawal_MGD',\n",
    "              fill='Source')) + \n",
    " facet_grid(facets='~Type'))"
   ]
  },
  {
   "cell_type": "markdown",
   "metadata": {},
   "source": [
    "Closer to what we want, but we still need to (1) arrange the data so the bars are horizontal, and (2) tidy up the text. "
   ]
  },
  {
   "cell_type": "code",
   "execution_count": null,
   "metadata": {},
   "outputs": [],
   "source": [
    "options.figure_size"
   ]
  },
  {
   "cell_type": "code",
   "execution_count": null,
   "metadata": {},
   "outputs": [],
   "source": [
    "#Create facets based on the Type column\n",
    "(ggplot(data=dfAll) + \n",
    " geom_col(aes(x='Category',\n",
    "              y='Withdrawal_MGD',\n",
    "              fill='Source')) + \n",
    " facet_grid(facets='~Type') +\n",
    " coord_flip() + \n",
    " ggtitle('Withdrawal by category') + \n",
    " ylab(\"Water withdrawals (MGD)\")\n",
    ")"
   ]
  },
  {
   "cell_type": "code",
   "execution_count": null,
   "metadata": {},
   "outputs": [],
   "source": [
    "(ggplot(data=dfAll,mapping=aes(x='Category',y='Withdrawal_MGD',fill='Source')) +\n",
    "  geom_col() +\n",
    "  facet_wrap(facets = 'Type') + \n",
    "  theme(axis_text = element_text(angle=90)) +\n",
    "  ggtitle('Withdrawal by category') + \n",
    "  ylab('Total withdrawal (MGD)') + \n",
    ")"
   ]
  },
  {
   "cell_type": "markdown",
   "metadata": {},
   "source": [
    "![Transposed](https://datadevils.github.io/DataBootCamp/media/tableau/StackedBarPlot2.PNG)"
   ]
  },
  {
   "cell_type": "code",
   "execution_count": null,
   "metadata": {
    "scrolled": true
   },
   "outputs": [],
   "source": [
    "(ggplot(data=dfAll[dfAll.Category != 'Total'],\n",
    "        mapping=aes(x='Category',y='Withdrawal_MGD',fill='Source')) +\n",
    "  geom_col() +\n",
    "  coord_flip() +\n",
    "  facet_wrap(facets = 'Type',ncol=1) + \n",
    "  ylab('Total withdrawal (MGD)') +\n",
    "  theme(axis_text = element_text(angle=0)) \n",
    ")"
   ]
  },
  {
   "cell_type": "markdown",
   "metadata": {},
   "source": [
    "### 3c. Filter for just Fresh"
   ]
  },
  {
   "cell_type": "code",
   "execution_count": null,
   "metadata": {},
   "outputs": [],
   "source": [
    "df_Fresh = dfAll.query('Type == \"Fresh\"')\n",
    "df_Fresh.index = \n",
    "(ggplot(data=df_Fresh[dfAll.Category != 'Total'],\n",
    "        mapping=aes(x='Category',y='Withdrawal_MGD',fill='Source')) +\n",
    "  geom_col() +\n",
    "  coord_flip() +\n",
    "  #facet_wrap(facets = 'Type',ncol=1) + \n",
    "  ylab('Total withdrawal (MGD)') +\n",
    "  theme(axis_text = element_text(angle=0)) \n",
    ")"
   ]
  },
  {
   "cell_type": "code",
   "execution_count": null,
   "metadata": {},
   "outputs": [],
   "source": []
  }
 ],
 "metadata": {
  "kernelspec": {
   "display_name": "Python 3",
   "language": "python",
   "name": "python3"
  },
  "language_info": {
   "codemirror_mode": {
    "name": "ipython",
    "version": 3
   },
   "file_extension": ".py",
   "mimetype": "text/x-python",
   "name": "python",
   "nbconvert_exporter": "python",
   "pygments_lexer": "ipython3",
   "version": "3.6.8"
  }
 },
 "nbformat": 4,
 "nbformat_minor": 2
}
