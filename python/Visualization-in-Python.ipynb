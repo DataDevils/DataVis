{
 "cells": [
  {
   "cell_type": "markdown",
   "metadata": {},
   "source": [
    "# Basics of Plotting in Python"
   ]
  },
  {
   "cell_type": "code",
   "execution_count": null,
   "metadata": {},
   "outputs": [],
   "source": [
    "#Import pandas and matplotlib\n",
    "import pandas as pd\n",
    "from matplotlib import pyplot as plt"
   ]
  },
  {
   "cell_type": "code",
   "execution_count": null,
   "metadata": {},
   "outputs": [],
   "source": [
    "#Magic command to allow plots in Jupyter\n",
    "%matplotlib inline"
   ]
  },
  {
   "cell_type": "markdown",
   "metadata": {},
   "source": [
    "## Load the data as a dataframe"
   ]
  },
  {
   "cell_type": "code",
   "execution_count": null,
   "metadata": {},
   "outputs": [],
   "source": [
    "#Read the data into a data frame\n",
    "df = pd.read_csv('../data/State_Data_Formatted_All.csv')\n",
    "df.dtypes"
   ]
  },
  {
   "cell_type": "markdown",
   "metadata": {},
   "source": [
    "## Explore the data"
   ]
  },
  {
   "cell_type": "markdown",
   "metadata": {},
   "source": [
    "* View the top few rows with `head()`. Alternatively, try `sample(5)` to view a random sample or `tail()` to view the last lines of data. "
   ]
  },
  {
   "cell_type": "code",
   "execution_count": null,
   "metadata": {},
   "outputs": [],
   "source": [
    "#View the first 5 rows\n",
    "df.head()"
   ]
  },
  {
   "cell_type": "markdown",
   "metadata": {},
   "source": [
    "*It's important here to examine your data to see what values are categorical and which are continuous. Think about the various ways we can filter, group, and aggregate the data to provide meaningful summaries.*"
   ]
  },
  {
   "cell_type": "markdown",
   "metadata": {},
   "source": [
    "* Extract a list of unique values for a given column with `unique()`"
   ]
  },
  {
   "cell_type": "code",
   "execution_count": null,
   "metadata": {},
   "outputs": [],
   "source": [
    "#List unique values in the Category field\n",
    "df['Type'].unique()"
   ]
  },
  {
   "cell_type": "markdown",
   "metadata": {},
   "source": [
    "* Use the `value_counts()` to tabulate the number of records within each unique value"
   ]
  },
  {
   "cell_type": "code",
   "execution_count": null,
   "metadata": {},
   "outputs": [],
   "source": [
    "#Count the number of records in each category with the value_counts() function\n",
    "df['Category'].value_counts()"
   ]
  },
  {
   "cell_type": "markdown",
   "metadata": {},
   "source": [
    "* Not very interesting as the data is regulalry sampled, but what if we filter the data to records with a Withdrawal above zero?"
   ]
  },
  {
   "cell_type": "code",
   "execution_count": null,
   "metadata": {},
   "outputs": [],
   "source": [
    "dfNonZero = df.query('Withdrawal_MGD > 0')\n",
    "dfNonZero['Category'].value_counts()"
   ]
  },
  {
   "cell_type": "markdown",
   "metadata": {},
   "source": [
    "* Tables are one thing, but plots can communicate more effectively. We can plot the data in the above table simply by adding `.plot()` at the end of the statement."
   ]
  },
  {
   "cell_type": "code",
   "execution_count": null,
   "metadata": {},
   "outputs": [],
   "source": [
    "dfNonZero['Category'].value_counts().plot()"
   ]
  },
  {
   "cell_type": "markdown",
   "metadata": {},
   "source": [
    "## Plotting!\n",
    "\n",
    "#### Plot types\n",
    "Ok, that first plot was somewhat easy, but not very pretty or all that informative. So let's now explore plotting! Let's dig deeper into how to modify the **kind** of plot (bar, pie, box, etc.) and how to tweak the **aesthetics** of the plot (color, title, labels, etc.)."
   ]
  },
  {
   "cell_type": "markdown",
   "metadata": {},
   "source": [
    "* As seen above, the default plot type is line plot. We can change from the default using the `kind` parameter. First, we'll show that indeed the `line` is the default. (Also note that adding a `;` at the end of the statement suppresses the `<matplotlib.axes...` message. "
   ]
  },
  {
   "cell_type": "code",
   "execution_count": null,
   "metadata": {},
   "outputs": [],
   "source": [
    "#Plot the number of records in each category; default is line\n",
    "dfNonZero['Category'].value_counts().plot(kind='line');"
   ]
  },
  {
   "cell_type": "markdown",
   "metadata": {},
   "source": [
    "* Change the `kind` of plot to `bar` to change it to a **bar** plot"
   ]
  },
  {
   "cell_type": "code",
   "execution_count": null,
   "metadata": {},
   "outputs": [],
   "source": [
    "dfNonZero['Category'].value_counts().plot(kind='bar');"
   ]
  },
  {
   "cell_type": "markdown",
   "metadata": {},
   "source": [
    "* Try other types: `barh`, `pie`, `box`\n",
    "\n",
    "**NOTE** That different plots have specific uses:\n",
    " * <u>Line plots</u> are good for tracking change over time; the x-axis is continuous. \n",
    " * <u>Bar and horizontal bar plots</u> can also track change over time, but here the x-axis (or y, if horizontal) is discrete, not continuous, so the time would be in blocks. These plots are also good for comparing values associated with various groups. \n",
    " * <u>Pie charts</u> do not show change (no x-axis!) but are good at showing parts of a whole. \n",
    " \n",
    "There are many other types of plots and charts, of course, and each has a best case scenario. Check the literature for a more in-depth discussion on this. For example: see Stephanie Evergreen's [Chart Chooser utilities](http://stephanieevergreen.com/tag/chart-chooser/) for some ideas.\n"
   ]
  },
  {
   "cell_type": "code",
   "execution_count": null,
   "metadata": {},
   "outputs": [],
   "source": [
    "dfNonZero['Category'].value_counts().plot(kind='pie');"
   ]
  },
  {
   "cell_type": "markdown",
   "metadata": {},
   "source": [
    "#### Color\n",
    "* Change the color of the bars in the horizontal bar plot with the `color` option. You can use any named color shown here: https://matplotlib.org/examples/color/named_colors.html, or you can specify a color by it's hexcode (see https://htmlcolorcodes.com/) preceded by a `#`, e.g. `#ff5733`. Try changing the color below to `maroon`."
   ]
  },
  {
   "cell_type": "code",
   "execution_count": null,
   "metadata": {},
   "outputs": [],
   "source": [
    "dfNonZero['Category'].value_counts().plot(kind='barh',color='#ff5733');"
   ]
  },
  {
   "cell_type": "markdown",
   "metadata": {},
   "source": [
    "#### Size\n",
    "* Change the size of the plot with `figsize=()`. Supply a tuple of widght and height to change the size of your plot. Values are somewhat arbitrary, so play around. (Also note that I've changed the format of the command, putting parameters on separate lines to make it more readable...) "
   ]
  },
  {
   "cell_type": "code",
   "execution_count": null,
   "metadata": {},
   "outputs": [],
   "source": [
    "dfNonZero['Category'].value_counts().plot(kind='barh',\n",
    "                                          color='navy',\n",
    "                                          figsize=(8,5));"
   ]
  },
  {
   "cell_type": "markdown",
   "metadata": {},
   "source": [
    "#### Colormaps\n",
    "\n",
    "* *Colormaps* apply a suite of colors to values in a plot. Below is an example of applying a colormap to our pie chart. "
   ]
  },
  {
   "cell_type": "code",
   "execution_count": null,
   "metadata": {},
   "outputs": [],
   "source": [
    "dfNonZero['Category'].value_counts().plot(kind='pie',\n",
    "                                          colormap ='Pastel1',\n",
    "                                          figsize=(5,5));"
   ]
  },
  {
   "cell_type": "markdown",
   "metadata": {},
   "source": [
    "There are 3 classes of colormap, each with its own use:\n",
    " * **Sequential** colormaps have a change of lightness over one color. They used for continuous, ordered values.\n",
    " * **Diverging** colormaps are used when the information being plotted deviates around a middle value. Here there are often two different colors being used.\n",
    " * **Qualitative** colormaps are for unordered, categorical data.\n",
    " \n",
    "See this link for a nice discussion:\n",
    "https://matplotlib.org/users/colormaps.html"
   ]
  },
  {
   "cell_type": "markdown",
   "metadata": {},
   "source": [
    "Matplotlib can do a *lot* more that what we've done here. However, it does get confusing, and you can see some examples in past notebooks. "
   ]
  },
  {
   "cell_type": "markdown",
   "metadata": {},
   "source": [
    "## More complex plots with Seaborn\n",
    "Seaborn works in conjunction with matplotlib and was created to make matplotlib easier.  Seaborn, as with Matplotlib, has methods for bar plots, histograms and pie charts. Let's take a look at an example of one of the methods, countplot. "
   ]
  },
  {
   "cell_type": "code",
   "execution_count": null,
   "metadata": {},
   "outputs": [],
   "source": [
    "#Importing seaborn\n",
    "import seaborn as sns"
   ]
  },
  {
   "cell_type": "markdown",
   "metadata": {},
   "source": [
    "#### Countplots in Seaborn\n",
    "Countplot has very similar parameters to Matplotlib. The **data** parameter for countplot is where you provide the DataFrame or the source for the data. The **hue** is for the categorical variables. (Recall that a categorical variable is one that can only take a fixed number of values...) \n",
    "\n",
    "Lets creat a countplot first to show to show the count of records by `Type` (Fresh vs Saline) and then by both `Type` and `Source` (Surface vs Ground). "
   ]
  },
  {
   "cell_type": "code",
   "execution_count": null,
   "metadata": {},
   "outputs": [],
   "source": [
    "#Show the count of values, grouped by Type\n",
    "sns.countplot(data=dfNonZero,x=\"Type\");"
   ]
  },
  {
   "cell_type": "code",
   "execution_count": null,
   "metadata": {},
   "outputs": [],
   "source": [
    "#Show the count of values, grouped by Type AND Source\n",
    "sns.countplot(data=dfNonZero,x=\"Type\",hue='Source');"
   ]
  },
  {
   "cell_type": "markdown",
   "metadata": {},
   "source": [
    "## Spatial visualizations (i.e. maps) with folium\n",
    "The `folium` package is actually an interface for \"Leaflet\" a [JavaScript API](http://leafletjs.com/) that allows us to plot markers on a map. In the exercise below, we'll first extract a set of NWIS sample points for a given state and then map the locations of these on a folium map.\n",
    "\n",
    "Full documentation on the folium package is here: http://python-visualization.github.io/folium/docs-v0.5.0/"
   ]
  },
  {
   "cell_type": "markdown",
   "metadata": {},
   "source": [
    "* First we'll pull a list of NWIS gage sites for NC from the NWIS server"
   ]
  },
  {
   "cell_type": "code",
   "execution_count": null,
   "metadata": {},
   "outputs": [],
   "source": [
    "#Get the list of site names for NC\n",
    "theURL = ('https://waterdata.usgs.gov/nwis/inventory?' + \\\n",
    "          'state_cd=nc&' + \\\n",
    "          'group_key=NONE&' + \\\n",
    "          'format=sitefile_output&' + \\\n",
    "          'sitefile_output_format=rdb&' + \\\n",
    "          'column_name=site_no&' + \\\n",
    "          'column_name=station_nm&' + \\\n",
    "          'column_name=site_tp_cd&' + \\\n",
    "          'column_name=dec_lat_va&' + \\\n",
    "          'column_name=dec_long_va&' + \\\n",
    "          'column_name=drain_area_va&' + \\\n",
    "          'list_of_search_criteria=state_cd')\n",
    "colnames=['site_no','station_nm','site_tp_cd','lat','lng','agent','datum','d_area']\n",
    "\n",
    "#Pull the data from the URL\n",
    "dfNWIS = pd.read_csv(theURL,skiprows=29,sep='\\t',names=colnames,index_col='site_no')\n",
    "\n",
    "#Drop rows with null values\n",
    "dfNWIS.dropna(inplace=True)\n",
    "\n",
    "#Display\n",
    "dfNWIS.head()"
   ]
  },
  {
   "cell_type": "markdown",
   "metadata": {
    "collapsed": true
   },
   "source": [
    "We have site number, site names, location coordinates and a field of drainage areas. Let's plot these on a map using the location coordinates. The steps in this process are as follows\n",
    "* First, we'll compute the median lat and lng values to create a coordinate pair on which to center our map"
   ]
  },
  {
   "cell_type": "code",
   "execution_count": null,
   "metadata": {},
   "outputs": [],
   "source": [
    "#Determine the median lat/lng\n",
    "medianLat = dfNWIS['lat'].median()\n",
    "medianLng = dfNWIS['lng'].median()\n",
    "print (medianLat,medianLng)"
   ]
  },
  {
   "cell_type": "markdown",
   "metadata": {},
   "source": [
    "* Next, we'll create our folium map object, setting some initial properties: the location, the zoom level, and the base map, or \"tiles\". (The default tiles are set to `OpenStreetMap`, but `Stamen Terrain`, `Stamen Toner`, `Mapbox Bright`, and `Mapbox Control Room`, and many others tiles are built in."
   ]
  },
  {
   "cell_type": "code",
   "execution_count": null,
   "metadata": {},
   "outputs": [],
   "source": [
    "#Import the package\n",
    "import folium\n",
    "print(folium.__version__)"
   ]
  },
  {
   "cell_type": "code",
   "execution_count": null,
   "metadata": {},
   "outputs": [],
   "source": [
    "#Construct the map\n",
    "m = folium.Map(location=[medianLat,medianLng],\n",
    "               zoom_start = 7,\n",
    "               tiles='OpenStreetMap'              \n",
    "             )\n",
    "#Display the map\n",
    "m"
   ]
  },
  {
   "cell_type": "markdown",
   "metadata": {},
   "source": [
    "Try playing with the parameters and see how the map appears. \n",
    "\n",
    "* Next, we'll add a single marker to our map. This is a two step process: first we create the marker, and then we add it to the map... We'll put our marker at the center of our map"
   ]
  },
  {
   "cell_type": "code",
   "execution_count": null,
   "metadata": {},
   "outputs": [],
   "source": [
    "#Create the marker, we'll use a circle Marker\n",
    "myMarker = folium.CircleMarker(location=[medianLat,medianLng],\n",
    "                               color='red',\n",
    "                               fill=True,\n",
    "                               fill_opacity=0.5,\n",
    "                               radius=30\n",
    "                              )\n",
    "\n",
    "myMarker.add_to(m)\n",
    "m"
   ]
  },
  {
   "cell_type": "markdown",
   "metadata": {},
   "source": [
    "* Now we'll get a bit more complex. Here we'll loop through all of our records and add each as a marker to our map. We'll re-create our map which removes all previous markers."
   ]
  },
  {
   "cell_type": "code",
   "execution_count": null,
   "metadata": {},
   "outputs": [],
   "source": [
    "#Recreate the map object to clear markers\n",
    "m = folium.Map(location=[medianLat,medianLng],\n",
    "               zoom_start = 7,\n",
    "               tiles='OpenStreetMap'              \n",
    "             )\n",
    "\n",
    "#Loop through all features and add them to the map as markers\n",
    "for row in dfNWIS.itertuples():\n",
    "    #Get info for the record\n",
    "    lat = row.lat\n",
    "    lng = row.lng\n",
    "    #Create the marker object, adding them to the map object\n",
    "    folium.CircleMarker(location=[lat,lng],\n",
    "                        color='blue',\n",
    "                        fill=True,\n",
    "                        fill_opacity=0.6,\n",
    "                        radius=3).add_to(m)\n",
    "#Show the map\n",
    "m"
   ]
  }
 ],
 "metadata": {
  "kernelspec": {
   "display_name": "Python 3",
   "language": "python",
   "name": "python3"
  },
  "language_info": {
   "codemirror_mode": {
    "name": "ipython",
    "version": 3
   },
   "file_extension": ".py",
   "mimetype": "text/x-python",
   "name": "python",
   "nbconvert_exporter": "python",
   "pygments_lexer": "ipython3",
   "version": "3.5.4"
  }
 },
 "nbformat": 4,
 "nbformat_minor": 2
}
